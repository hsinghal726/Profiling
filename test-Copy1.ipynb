{
 "cells": [
  {
   "cell_type": "code",
   "execution_count": 1,
   "metadata": {},
   "outputs": [],
   "source": [
    "%load_ext autoreload\n",
    "%autoreload 2"
   ]
  },
  {
   "cell_type": "code",
   "execution_count": 2,
   "metadata": {},
   "outputs": [
    {
     "name": "stderr",
     "output_type": "stream",
     "text": [
      "/Users/harsh/anaconda3/lib/python3.6/site-packages/statsmodels/tools/_testing.py:19: FutureWarning: pandas.util.testing is deprecated. Use the functions in the public API at pandas.testing instead.\n",
      "  import pandas.util.testing as tm\n"
     ]
    }
   ],
   "source": [
    "## Adding 'FDS profiling package'\n",
    "import sys\n",
    "sys.path.insert(0, '/Users/harsh/Desktop/DATA_SCIENCE/PandasProfiling/')\n",
    "\n",
    "import pandas as pd\n",
    "import matplotlib.pyplot as plt\n",
    "%matplotlib inline\n",
    "\n",
    "from missingno import missingno\n",
    "from fds_profiling.visualisation.image_encoding import hex_to_rgb, plot_360_n0sc0pe\n",
    "\n",
    "from fds_profiling.report import templates\n",
    "from fds_profiling.report.renderable import Renderable\n",
    "\n",
    "from fds_profiling.config import config\n",
    "\n",
    "from fds_profiling.model.base import get_df_col_types\n",
    "from fds_profiling.model.overview import overview\n",
    "\n",
    "from fds_profiling.model.aggregators import groupby_aggregator\n",
    "from fds_profiling.model.summary import describe_numeric_1d\n",
    "from fds_profiling.model.summary import get_table_stats\n",
    "from fds_profiling.model.describe import describe_table\n",
    "from fds_profiling.model.associations import associations"
   ]
  },
  {
   "cell_type": "code",
   "execution_count": 3,
   "metadata": {},
   "outputs": [],
   "source": [
    "# describe_numeric_1d(df[\"Age\"])"
   ]
  },
  {
   "cell_type": "markdown",
   "metadata": {},
   "source": [
    "##### Titanic dataset"
   ]
  },
  {
   "cell_type": "code",
   "execution_count": 4,
   "metadata": {},
   "outputs": [
    {
     "data": {
      "text/html": [
       "<div>\n",
       "<style scoped>\n",
       "    .dataframe tbody tr th:only-of-type {\n",
       "        vertical-align: middle;\n",
       "    }\n",
       "\n",
       "    .dataframe tbody tr th {\n",
       "        vertical-align: top;\n",
       "    }\n",
       "\n",
       "    .dataframe thead th {\n",
       "        text-align: right;\n",
       "    }\n",
       "</style>\n",
       "<table border=\"1\" class=\"dataframe\">\n",
       "  <thead>\n",
       "    <tr style=\"text-align: right;\">\n",
       "      <th></th>\n",
       "      <th>PassengerId</th>\n",
       "      <th>Survived</th>\n",
       "      <th>Pclass</th>\n",
       "      <th>Name</th>\n",
       "      <th>Sex</th>\n",
       "      <th>Age</th>\n",
       "      <th>SibSp</th>\n",
       "      <th>Parch</th>\n",
       "      <th>Ticket</th>\n",
       "      <th>Fare</th>\n",
       "      <th>Cabin</th>\n",
       "      <th>Embarked</th>\n",
       "    </tr>\n",
       "  </thead>\n",
       "  <tbody>\n",
       "    <tr>\n",
       "      <th>0</th>\n",
       "      <td>1</td>\n",
       "      <td>0</td>\n",
       "      <td>3</td>\n",
       "      <td>Braund, Mr. Owen Harris</td>\n",
       "      <td>male</td>\n",
       "      <td>22.0</td>\n",
       "      <td>1</td>\n",
       "      <td>0</td>\n",
       "      <td>A/5 21171</td>\n",
       "      <td>7.2500</td>\n",
       "      <td>NaN</td>\n",
       "      <td>S</td>\n",
       "    </tr>\n",
       "    <tr>\n",
       "      <th>1</th>\n",
       "      <td>2</td>\n",
       "      <td>1</td>\n",
       "      <td>1</td>\n",
       "      <td>Cumings, Mrs. John Bradley (Florence Briggs Th...</td>\n",
       "      <td>female</td>\n",
       "      <td>38.0</td>\n",
       "      <td>1</td>\n",
       "      <td>0</td>\n",
       "      <td>PC 17599</td>\n",
       "      <td>71.2833</td>\n",
       "      <td>C85</td>\n",
       "      <td>C</td>\n",
       "    </tr>\n",
       "  </tbody>\n",
       "</table>\n",
       "</div>"
      ],
      "text/plain": [
       "   PassengerId  Survived  Pclass  \\\n",
       "0            1         0       3   \n",
       "1            2         1       1   \n",
       "\n",
       "                                                Name     Sex   Age  SibSp  \\\n",
       "0                            Braund, Mr. Owen Harris    male  22.0      1   \n",
       "1  Cumings, Mrs. John Bradley (Florence Briggs Th...  female  38.0      1   \n",
       "\n",
       "   Parch     Ticket     Fare Cabin Embarked  \n",
       "0      0  A/5 21171   7.2500   NaN        S  \n",
       "1      0   PC 17599  71.2833   C85        C  "
      ]
     },
     "execution_count": 4,
     "metadata": {},
     "output_type": "execute_result"
    }
   ],
   "source": [
    "import requests\n",
    "import io\n",
    "s = requests.get(\"https://raw.githubusercontent.com/datasciencedojo/datasets/master/titanic.csv\").content\n",
    "df = pd.read_csv(io.StringIO(s.decode('utf-8')))\n",
    "df.head(2)"
   ]
  },
  {
   "cell_type": "code",
   "execution_count": null,
   "metadata": {},
   "outputs": [],
   "source": []
  },
  {
   "cell_type": "code",
   "execution_count": 5,
   "metadata": {},
   "outputs": [],
   "source": [
    "# import requests\n",
    "# import io\n",
    "# s = requests.get(\"https://archive.ics.uci.edu/ml/machine-learning-databases/adult/adult.data\").content\n",
    "# df = pd.read_csv(io.StringIO(s.decode('utf-8')))\n",
    "# df.head(2)"
   ]
  },
  {
   "cell_type": "code",
   "execution_count": 6,
   "metadata": {},
   "outputs": [
    {
     "data": {
      "text/html": [
       "<div>\n",
       "<style scoped>\n",
       "    .dataframe tbody tr th:only-of-type {\n",
       "        vertical-align: middle;\n",
       "    }\n",
       "\n",
       "    .dataframe tbody tr th {\n",
       "        vertical-align: top;\n",
       "    }\n",
       "\n",
       "    .dataframe thead th {\n",
       "        text-align: right;\n",
       "    }\n",
       "</style>\n",
       "<table border=\"1\" class=\"dataframe\">\n",
       "  <thead>\n",
       "    <tr style=\"text-align: right;\">\n",
       "      <th></th>\n",
       "      <th>PassengerId</th>\n",
       "      <th>Survived</th>\n",
       "      <th>Pclass</th>\n",
       "      <th>Name</th>\n",
       "      <th>Sex</th>\n",
       "      <th>Age</th>\n",
       "      <th>SibSp</th>\n",
       "      <th>Parch</th>\n",
       "      <th>Ticket</th>\n",
       "      <th>Fare</th>\n",
       "      <th>Cabin</th>\n",
       "      <th>Embarked</th>\n",
       "    </tr>\n",
       "  </thead>\n",
       "  <tbody>\n",
       "    <tr>\n",
       "      <th>0</th>\n",
       "      <td>1</td>\n",
       "      <td>0</td>\n",
       "      <td>3</td>\n",
       "      <td>Braund, Mr. Owen Harris</td>\n",
       "      <td>male</td>\n",
       "      <td>22.0</td>\n",
       "      <td>1</td>\n",
       "      <td>0</td>\n",
       "      <td>A/5 21171</td>\n",
       "      <td>7.2500</td>\n",
       "      <td>NaN</td>\n",
       "      <td>S</td>\n",
       "    </tr>\n",
       "    <tr>\n",
       "      <th>1</th>\n",
       "      <td>2</td>\n",
       "      <td>1</td>\n",
       "      <td>1</td>\n",
       "      <td>Cumings, Mrs. John Bradley (Florence Briggs Th...</td>\n",
       "      <td>female</td>\n",
       "      <td>38.0</td>\n",
       "      <td>1</td>\n",
       "      <td>0</td>\n",
       "      <td>PC 17599</td>\n",
       "      <td>71.2833</td>\n",
       "      <td>C85</td>\n",
       "      <td>C</td>\n",
       "    </tr>\n",
       "  </tbody>\n",
       "</table>\n",
       "</div>"
      ],
      "text/plain": [
       "   PassengerId  Survived  Pclass  \\\n",
       "0            1         0       3   \n",
       "1            2         1       1   \n",
       "\n",
       "                                                Name     Sex   Age  SibSp  \\\n",
       "0                            Braund, Mr. Owen Harris    male  22.0      1   \n",
       "1  Cumings, Mrs. John Bradley (Florence Briggs Th...  female  38.0      1   \n",
       "\n",
       "   Parch     Ticket     Fare Cabin Embarked  \n",
       "0      0  A/5 21171   7.2500   NaN        S  \n",
       "1      0   PC 17599  71.2833   C85        C  "
      ]
     },
     "execution_count": 6,
     "metadata": {},
     "output_type": "execute_result"
    }
   ],
   "source": [
    "df.head(2)"
   ]
  },
  {
   "cell_type": "code",
   "execution_count": 7,
   "metadata": {},
   "outputs": [],
   "source": [
    "# from fitter import Fitter\n",
    "# f = Fitter(df[\" 77516\"])\n",
    "# f.fit()\n",
    "# f.summary()"
   ]
  },
  {
   "cell_type": "markdown",
   "metadata": {},
   "source": [
    "##### Variable types"
   ]
  },
  {
   "cell_type": "code",
   "execution_count": 8,
   "metadata": {},
   "outputs": [],
   "source": [
    "config.config[\"var_types\"] = get_df_col_types(df)\n",
    "column_types = config.config[\"var_types\"]"
   ]
  },
  {
   "cell_type": "markdown",
   "metadata": {},
   "source": [
    "##### Metrics"
   ]
  },
  {
   "cell_type": "code",
   "execution_count": 9,
   "metadata": {},
   "outputs": [],
   "source": [
    "## TODO: space problem in metric name\n",
    "def count_(df):\n",
    "    return df\n",
    "\n",
    "def metric_1(df):\n",
    "    return df[\"Survived\"].sum()\n",
    "\n",
    "def metric_2(df):\n",
    "    return df[\"Survived\"].count()\n",
    "\n",
    "total_metrics = [(\"metric_1\", metric_1), (\"metric_2\", metric_2)]"
   ]
  },
  {
   "cell_type": "markdown",
   "metadata": {},
   "source": [
    "#### Report Structure"
   ]
  },
  {
   "cell_type": "code",
   "execution_count": 10,
   "metadata": {},
   "outputs": [],
   "source": [
    "## name, anchor_id, render\n",
    "sections = []\n",
    "overview_df = overview(df)\n",
    "\n",
    "## Overview\n",
    "df_info = describe_table(df, config.config[\"var_types\"])\n",
    "sections.append(\n",
    "    Renderable(\n",
    "        content = {\n",
    "            \"size\": 6,\n",
    "            \"headings\": [\"Dataset\", \"Variable types\"],\n",
    "            \"contents\": df_info\n",
    "        },\n",
    "        name=\"Overview\",\n",
    "        anchor_id=\"overview\",\n",
    "        type_id=\"multiple_tables\"))\n",
    "\n",
    "## Variables\n",
    "sections.append(\n",
    "    Renderable(\n",
    "        content = {\"dataframe\":df, \"metrics\":total_metrics, \"column_types\":config.config[\"var_types\"]},\n",
    "        name=\"Variables\",\n",
    "        anchor_id=\"variables\",\n",
    "        type_id=\"variables_container\"))"
   ]
  },
  {
   "cell_type": "markdown",
   "metadata": {},
   "source": [
    "##### Creating HTML report"
   ]
  },
  {
   "cell_type": "code",
   "execution_count": 11,
   "metadata": {},
   "outputs": [],
   "source": [
    "## Creating\n",
    "html_template = templates.template(\"report.html\")\n",
    "\n",
    "#### navigations items\n",
    "nav_items = [\n",
    "    (section.name, section.anchor_id)\n",
    "    for section in sections\n",
    "]\n",
    "\n",
    "data = html_template.render(\n",
    "    title = \"Pandas Profiling\", ## report\n",
    "    nav_items=nav_items, ## navigation\n",
    "    sections=sections, ## report (content)\n",
    ")\n",
    "\n",
    "## Writing\n",
    "with open(\"sample_profiles/harsh_profiling.html\", \"w\") as file:\n",
    "    file.write(data)"
   ]
  },
  {
   "cell_type": "code",
   "execution_count": 12,
   "metadata": {},
   "outputs": [],
   "source": [
    "# print (data)"
   ]
  },
  {
   "cell_type": "code",
   "execution_count": null,
   "metadata": {},
   "outputs": [],
   "source": []
  },
  {
   "cell_type": "code",
   "execution_count": null,
   "metadata": {},
   "outputs": [],
   "source": [
    "moments = [\n",
    "            { \"name\": \"Mean\", \"value\": info[\"mean\"], \"alert\": False },\n",
    "            { \"name\": \"Median\", \"value\": info[\"50%\"], \"alert\": False },\n",
    "            { \"name\": \"Skewness\", \"value\": info[\"skewness\"], \"alert\": False },\n",
    "            { \"name\": \"Kurtosis\", \"value\": info[\"kurtosis\"], \"alert\": False }\n",
    "        ]"
   ]
  },
  {
   "cell_type": "code",
   "execution_count": 13,
   "metadata": {},
   "outputs": [],
   "source": [
    "d = associations(df, column_types).head(5)"
   ]
  },
  {
   "cell_type": "code",
   "execution_count": 14,
   "metadata": {},
   "outputs": [
    {
     "data": {
      "text/html": [
       "<div>\n",
       "<style scoped>\n",
       "    .dataframe tbody tr th:only-of-type {\n",
       "        vertical-align: middle;\n",
       "    }\n",
       "\n",
       "    .dataframe tbody tr th {\n",
       "        vertical-align: top;\n",
       "    }\n",
       "\n",
       "    .dataframe thead th {\n",
       "        text-align: right;\n",
       "    }\n",
       "</style>\n",
       "<table border=\"1\" class=\"dataframe\">\n",
       "  <thead>\n",
       "    <tr style=\"text-align: right;\">\n",
       "      <th></th>\n",
       "      <th>col_a</th>\n",
       "      <th>association</th>\n",
       "      <th>col_b</th>\n",
       "      <th>type_</th>\n",
       "    </tr>\n",
       "  </thead>\n",
       "  <tbody>\n",
       "    <tr>\n",
       "      <th>1</th>\n",
       "      <td>PassengerId</td>\n",
       "      <td>0.005007</td>\n",
       "      <td>Survived</td>\n",
       "      <td>NUM-CAT</td>\n",
       "    </tr>\n",
       "    <tr>\n",
       "      <th>2</th>\n",
       "      <td>PassengerId</td>\n",
       "      <td>0.035802</td>\n",
       "      <td>Pclass</td>\n",
       "      <td>NUM-CAT</td>\n",
       "    </tr>\n",
       "    <tr>\n",
       "      <th>3</th>\n",
       "      <td>PassengerId</td>\n",
       "      <td>1.000000</td>\n",
       "      <td>Name</td>\n",
       "      <td>NUM-CAT</td>\n",
       "    </tr>\n",
       "    <tr>\n",
       "      <th>4</th>\n",
       "      <td>PassengerId</td>\n",
       "      <td>0.042939</td>\n",
       "      <td>Sex</td>\n",
       "      <td>NUM-CAT</td>\n",
       "    </tr>\n",
       "    <tr>\n",
       "      <th>5</th>\n",
       "      <td>PassengerId</td>\n",
       "      <td>0.036847</td>\n",
       "      <td>Age</td>\n",
       "      <td>NUM-NUM</td>\n",
       "    </tr>\n",
       "  </tbody>\n",
       "</table>\n",
       "</div>"
      ],
      "text/plain": [
       "         col_a  association     col_b    type_\n",
       "1  PassengerId     0.005007  Survived  NUM-CAT\n",
       "2  PassengerId     0.035802    Pclass  NUM-CAT\n",
       "3  PassengerId     1.000000      Name  NUM-CAT\n",
       "4  PassengerId     0.042939       Sex  NUM-CAT\n",
       "5  PassengerId     0.036847       Age  NUM-NUM"
      ]
     },
     "execution_count": 14,
     "metadata": {},
     "output_type": "execute_result"
    }
   ],
   "source": [
    "d"
   ]
  },
  {
   "cell_type": "code",
   "execution_count": null,
   "metadata": {},
   "outputs": [],
   "source": []
  },
  {
   "cell_type": "code",
   "execution_count": null,
   "metadata": {},
   "outputs": [],
   "source": []
  },
  {
   "cell_type": "code",
   "execution_count": null,
   "metadata": {},
   "outputs": [],
   "source": []
  },
  {
   "cell_type": "code",
   "execution_count": 9,
   "metadata": {},
   "outputs": [],
   "source": [
    "# def missing_matrix(data: pd.DataFrame) -> str:\n",
    "#     \"\"\"Generate missing values matrix plot\n",
    "#     Args:\n",
    "#       data: Pandas DataFrame to generate missing values matrix from.\n",
    "#     Returns:\n",
    "#       The resulting missing values matrix encoded as a string.\n",
    "#     \"\"\"\n",
    "#     labels = True\n",
    "#     missingno.matrix(\n",
    "#         data,\n",
    "#         figsize=(10, 4),\n",
    "#         color=hex_to_rgb(\"#337ab7\"),\n",
    "#         fontsize=10,\n",
    "#         sparkline=False,\n",
    "#         labels=labels,\n",
    "#     )\n",
    "#     plt.subplots_adjust(left=0.1, right=0.9, top=0.7, bottom=0.2)\n",
    "#     return plot_360_n0sc0pe(plt)"
   ]
  },
  {
   "cell_type": "code",
   "execution_count": 10,
   "metadata": {},
   "outputs": [],
   "source": [
    "# html_template = templates.template(\"temp.html\")\n",
    "\n",
    "# data = html_template.render(\n",
    "#     content = missing_matrix(df)\n",
    "# )\n",
    "\n",
    "# ## Writing\n",
    "# with open(\"sample_profiles/temp_profiling.html\", \"w\") as file:\n",
    "#     file.write(data)"
   ]
  },
  {
   "cell_type": "code",
   "execution_count": 18,
   "metadata": {},
   "outputs": [],
   "source": [
    "# print (missing_matrix(df))"
   ]
  },
  {
   "cell_type": "code",
   "execution_count": 19,
   "metadata": {},
   "outputs": [],
   "source": [
    "# missingno.matrix(\n",
    "#         df,\n",
    "#         figsize=(10, 4),\n",
    "#         color=hex_to_rgb(\"#337ab7\"),\n",
    "#         fontsize=10,\n",
    "#         sparkline=False,\n",
    "# #         labels=labels,\n",
    "#     )"
   ]
  },
  {
   "cell_type": "code",
   "execution_count": null,
   "metadata": {},
   "outputs": [],
   "source": []
  },
  {
   "cell_type": "code",
   "execution_count": 16,
   "metadata": {},
   "outputs": [],
   "source": []
  },
  {
   "cell_type": "code",
   "execution_count": null,
   "metadata": {},
   "outputs": [],
   "source": []
  },
  {
   "cell_type": "code",
   "execution_count": 17,
   "metadata": {},
   "outputs": [
    {
     "name": "stdout",
     "output_type": "stream",
     "text": [
      "Distinct values\n",
      "Missing values\n"
     ]
    }
   ],
   "source": [
    "for key, value in descriptive.items():\n",
    "    print (key)"
   ]
  },
  {
   "cell_type": "code",
   "execution_count": 14,
   "metadata": {},
   "outputs": [],
   "source": [
    "b = pd.DataFrame([[\"a\", \"b\", \"c\"], [\"c\", \"d\", \"e\"]])"
   ]
  },
  {
   "cell_type": "code",
   "execution_count": 15,
   "metadata": {},
   "outputs": [
    {
     "data": {
      "text/html": [
       "<div>\n",
       "<style scoped>\n",
       "    .dataframe tbody tr th:only-of-type {\n",
       "        vertical-align: middle;\n",
       "    }\n",
       "\n",
       "    .dataframe tbody tr th {\n",
       "        vertical-align: top;\n",
       "    }\n",
       "\n",
       "    .dataframe thead th {\n",
       "        text-align: right;\n",
       "    }\n",
       "</style>\n",
       "<table border=\"1\" class=\"dataframe\">\n",
       "  <thead>\n",
       "    <tr style=\"text-align: right;\">\n",
       "      <th></th>\n",
       "      <th>0</th>\n",
       "      <th>1</th>\n",
       "      <th>2</th>\n",
       "    </tr>\n",
       "  </thead>\n",
       "  <tbody>\n",
       "    <tr>\n",
       "      <th>0</th>\n",
       "      <td>a</td>\n",
       "      <td>b</td>\n",
       "      <td>c</td>\n",
       "    </tr>\n",
       "    <tr>\n",
       "      <th>1</th>\n",
       "      <td>c</td>\n",
       "      <td>d</td>\n",
       "      <td>e</td>\n",
       "    </tr>\n",
       "  </tbody>\n",
       "</table>\n",
       "</div>"
      ],
      "text/plain": [
       "   0  1  2\n",
       "0  a  b  c\n",
       "1  c  d  e"
      ]
     },
     "execution_count": 15,
     "metadata": {},
     "output_type": "execute_result"
    }
   ],
   "source": [
    "b"
   ]
  },
  {
   "cell_type": "code",
   "execution_count": null,
   "metadata": {},
   "outputs": [],
   "source": []
  },
  {
   "cell_type": "code",
   "execution_count": null,
   "metadata": {},
   "outputs": [],
   "source": []
  },
  {
   "cell_type": "code",
   "execution_count": null,
   "metadata": {},
   "outputs": [],
   "source": [
    "{% for table_i in range(tables) %}\n",
    "    <div class=\"col-sm-{{ size }}\">\n",
    "        <p class=\"h4\"> {{ headings[table_i] }}</p>\n",
    "            <table class=\"table table-condensed stats\">\n",
    "                <tbody>\n",
    "                    {% for row in contents[table_i] %}\n",
    "                        <tr{% if row[\"alert\"] %} class=\"alert\"{% endif %}>\n",
    "                            <th>{{ row['name'] }}</th>\n",
    "                            <td>{{ row['value'] }}</td>\n",
    "                        </tr>\n",
    "                    {% endfor %}\n",
    "                </tbody>\n",
    "            </table>\n",
    "    </div>\n",
    "{% endfor %}"
   ]
  },
  {
   "cell_type": "code",
   "execution_count": null,
   "metadata": {},
   "outputs": [],
   "source": [
    "import numpy as np\n",
    "import pandas as pd\n",
    "\n",
    "def get_table_stats(df: pd.DataFrame) -> dict:\n",
    "    \"\"\"\n",
    "    General statistics for the DataFrame.\n",
    "    \"\"\"\n",
    "    n = len(df)\n",
    "\n",
    "    table_stats = {\n",
    "        \"n\": n,\n",
    "        \"n_var\": len(df.columns),\n",
    "        \"n_cells_missing\": df.isnull().sum().sum(),\n",
    "        \"n_duplicated\": sum(df.duplicated())\n",
    "    }\n",
    "\n",
    "    table_stats[\"p_cells_missing\"] = table_stats[\"n_cells_missing\"] / (table_stats[\"n\"] * table_stats[\"n_var\"])\n",
    "    table_stats[\"p_duplicated\"] = table_stats[\"n_duplicated\"] / (table_stats[\"n\"] * table_stats[\"n_var\"])\n",
    "\n",
    "    for key, value in table_stats.items():\n",
    "        try:\n",
    "            table_stats[key] = round(value, 2)\n",
    "        except:\n",
    "            pass\n",
    "        \n",
    "    return table_stats\n",
    "\n",
    "def describe_numeric_1d(series: pd.Series) -> dict:\n",
    "        \n",
    "    def mad(arr):\n",
    "        \"\"\" Median Absolute Deviation: a \"Robust\" version of standard deviation.\n",
    "            Indices variability of the sample.\n",
    "            https://en.wikipedia.org/wiki/Median_absolute_deviation\n",
    "        \"\"\"\n",
    "        return np.median(np.abs(arr - np.median(arr)))\n",
    "    \n",
    "    stats = {}\n",
    "                \n",
    "    value_counts_with_nan = series.value_counts(dropna=False)\n",
    "    value_counts_without_nan = series.value_counts(dropna=True)\n",
    "    stats[\"distinct_count_with_nan\"] = value_counts_with_nan.count()\n",
    "    stats[\"distinct_count_without_nan\"] = value_counts_without_nan.count()\n",
    "    \n",
    "    # number of observations in the Series\n",
    "    length = len(series)\n",
    "\n",
    "    # number of non-NaN observations in the Series\n",
    "    count = series.count()\n",
    "\n",
    "    distinct_count = stats[\"distinct_count_without_nan\"]\n",
    "    \n",
    "    stats[\"n\"] = length\n",
    "    stats[\"distinct_count\"] = distinct_count\n",
    "    stats[\"p_missing\"] = 1 - (count / length)\n",
    "    stats[\"n_missing\"] = length - count\n",
    "    stats[\"is_unique\"] = distinct_count == count\n",
    "    stats[\"mode\"] = series.mode().iloc[0] if count > distinct_count > 1 else series[0]\n",
    "\n",
    "    values = series.values\n",
    "    present_values = values[~np.isnan(values)]\n",
    "\n",
    "    stats[\"mean\"] = np.mean(present_values)\n",
    "    stats[\"std\"] = np.std(present_values, ddof=1)\n",
    "    stats[\"variance\"] = np.var(present_values, ddof=1)\n",
    "    stats[\"min\"] = np.min(present_values)\n",
    "    stats[\"max\"] = np.max(present_values)\n",
    "    # Unbiased kurtosis obtained using Fisher's definition (kurtosis of normal == 0.0). Normalized by N-1.\n",
    "    stats[\"kurtosis\"] = series.kurt()\n",
    "    # Unbiased skew normalized by N-1\n",
    "    stats[\"skewness\"] = series.skew()\n",
    "    stats[\"mad\"] = mad(present_values)\n",
    "    stats[\"n_zeros\"] = (stats[\"count\"] - np.count_nonzero(present_values))\n",
    "    stats[\"p_zeros\"] = stats[\"n_zeros\"] / stats[\"n\"]\n",
    "    \n",
    "    stats[\"range\"] = stats[\"max\"] - stats[\"min\"]\n",
    "    \n",
    "    quantiles = [.25, .5, .75]\n",
    "    stats.update(\n",
    "        {\n",
    "            f\"{percentile:.0%}\": value\n",
    "            for percentile, value in series.quantile(quantiles).to_dict().items()\n",
    "        }\n",
    "    )\n",
    "\n",
    "    stats[\"iqr\"] = stats[\"75%\"] - stats[\"25%\"]\n",
    "    stats[\"cv\"] = stats[\"std\"] / stats[\"mean\"] if stats[\"mean\"] else np.NaN\n",
    "    \n",
    "    stats[\"n_outlier_above\"] = len(series[series > (stats[\"75%\"] + 1.5*stats[\"iqr\"])])\n",
    "    stats[\"n_outlier_below\"] = len(series[series < (stats[\"25%\"] - 1.5*stats[\"iqr\"])])\n",
    "    stats[\"n_outlier\"] = stats[\"n_outlier_above\"] + stats[\"n_outlier_below\"]\n",
    "    \n",
    "    stats[\"p_outlier_above\"] = stats[\"n_outlier_above\"] / stats[\"n\"]\n",
    "    stats[\"p_outlier_below\"] = stats[\"n_outlier_below\"] / stats[\"n\"]\n",
    "    stats[\"p_outlier\"] = stats[\"n_outlier\"] / stats[\"n\"]\n",
    "    \n",
    "    \n",
    "    for key, value in stats.items():\n",
    "        try:\n",
    "            stats[key] = round(value, 2)\n",
    "        except:\n",
    "            pass\n",
    "    \n",
    "    return stats\n",
    "\n",
    "def describe_categorical(series: pd.Series) -> dict:\n",
    "    \n",
    "    stats = {}\n",
    "                \n",
    "    value_counts_with_nan = series.value_counts(dropna=False)\n",
    "    value_counts_without_nan = series.value_counts(dropna=True)\n",
    "    stats[\"distinct_count_with_nan\"] = value_counts_with_nan.count()\n",
    "    stats[\"distinct_count_without_nan\"] = value_counts_without_nan.count()\n",
    "    \n",
    "    # number of observations in the Series\n",
    "    length = len(series)\n",
    "\n",
    "    # number of non-NaN observations in the Series\n",
    "    count = series.count()\n",
    "\n",
    "    distinct_count = stats[\"distinct_count_without_nan\"]\n",
    "    \n",
    "    stats[\"n\"] = length\n",
    "    stats[\"distinct_count\"] = distinct_count\n",
    "    stats[\"p_missing\"] = 1 - (count / length)\n",
    "    stats[\"n_missing\"] = length - count\n",
    "    stats[\"is_unique\"] = distinct_count == count\n",
    "    stats[\"mode\"] = series.mode().iloc[0] if count > distinct_count > 1 else series[0]\n",
    "    \n",
    "    for key, value in stats.items():\n",
    "        try:\n",
    "            stats[key] = round(value, 2)\n",
    "        except:\n",
    "            pass\n",
    "    \n",
    "    return stats\n"
   ]
  },
  {
   "cell_type": "code",
   "execution_count": null,
   "metadata": {},
   "outputs": [],
   "source": []
  },
  {
   "cell_type": "code",
   "execution_count": 1,
   "metadata": {},
   "outputs": [],
   "source": [
    "#no"
   ]
  }
 ],
 "metadata": {
  "kernelspec": {
   "display_name": "Python 3",
   "language": "python",
   "name": "python3"
  },
  "language_info": {
   "codemirror_mode": {
    "name": "ipython",
    "version": 3
   },
   "file_extension": ".py",
   "mimetype": "text/x-python",
   "name": "python",
   "nbconvert_exporter": "python",
   "pygments_lexer": "ipython3",
   "version": "3.6.9"
  }
 },
 "nbformat": 4,
 "nbformat_minor": 4
}
