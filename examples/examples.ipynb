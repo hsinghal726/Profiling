{
 "cells": [
  {
   "cell_type": "code",
   "execution_count": 1,
   "metadata": {},
   "outputs": [],
   "source": [
    "## Reloading packages\n",
    "%load_ext autoreload\n",
    "%autoreload 2\n",
    "\n",
    "## Adding 'FDS profiling package'\n",
    "import os, sys\n",
    "sys.path.insert(0, os.path.dirname(os.getcwd()))\n",
    "\n",
    "import warnings\n",
    "warnings.filterwarnings(\"ignore\")\n",
    "\n",
    "## Packages\n",
    "import requests\n",
    "import io\n",
    "\n",
    "import pandas as pd\n",
    "import matplotlib.pyplot as plt\n",
    "%matplotlib inline\n",
    "\n",
    "\n",
    "from fds_profiling.visualisation.charts import wordcloud\n",
    "from fds_profiling.model.variable_types import get_df_var_types\n",
    "\n",
    "from fds_profiling.profile_report import profiling"
   ]
  },
  {
   "cell_type": "code",
   "execution_count": 2,
   "metadata": {},
   "outputs": [],
   "source": [
    "# describe_numeric_1d(df[\"Age\"])"
   ]
  },
  {
   "cell_type": "markdown",
   "metadata": {},
   "source": [
    "##### Datasets"
   ]
  },
  {
   "cell_type": "code",
   "execution_count": 3,
   "metadata": {},
   "outputs": [],
   "source": [
    "## titanic_path\n",
    "path = \"https://raw.githubusercontent.com/datasciencedojo/datasets/master/titanic.csv\"\n",
    "## census\n",
    "# path = \"https://archive.ics.uci.edu/ml/machine-learning-databases/adult/adult.data\"\n",
    "\n",
    "## Chicago employees\n",
    "# path = \"https://data.cityofchicago.org/api/views/xzkq-xp2w/rows.csv?accessType=DOWNLOAD\"\n",
    "\n",
    "# ## colors\n",
    "# path =  \"https://github.com/codebrainz/color-names/raw/master/output/colors.csv\"\n",
    "\n",
    "\n",
    "s = requests.get(path).content\n",
    "df = pd.read_csv(io.StringIO(s.decode('utf-8')))\n",
    "\n",
    "## Metrics\n",
    "#### TODO: space problem in metric name\n",
    "def count_(df):\n",
    "    return df\n",
    "\n",
    "def metric_1(df):\n",
    "    return df[\"Survived\"].sum()\n",
    "\n",
    "def metric_2(df):\n",
    "    return df[\"Survived\"].count()\n",
    "\n",
    "total_metrics = [(\"metric_1\", metric_1), (\"metric_2\", metric_2)]"
   ]
  },
  {
   "cell_type": "code",
   "execution_count": 4,
   "metadata": {},
   "outputs": [],
   "source": [
    "df[\"boolean\"] = True\n",
    "df.loc[df[\"Pclass\"] == 1, \"boolean\"] = False"
   ]
  },
  {
   "cell_type": "code",
   "execution_count": 5,
   "metadata": {},
   "outputs": [
    {
     "data": {
      "text/plain": [
       "array([ True, False])"
      ]
     },
     "execution_count": 5,
     "metadata": {},
     "output_type": "execute_result"
    }
   ],
   "source": [
    "df[\"boolean\"].unique()"
   ]
  },
  {
   "cell_type": "markdown",
   "metadata": {},
   "source": [
    "#### Profiling"
   ]
  },
  {
   "cell_type": "code",
   "execution_count": 8,
   "metadata": {},
   "outputs": [],
   "source": [
    "profiling(dataframe=df,\n",
    "          target_variable = \"Age\",\n",
    "#           user_metrics=total_metrics,\n",
    "          output_file= os.path.join(os.path.dirname(os.getcwd()) + \"/sample_profiles/titanic_profiling.html\"),\n",
    "          title=\"Titanic Profiling\"\n",
    "         )"
   ]
  },
  {
   "cell_type": "code",
   "execution_count": 24,
   "metadata": {},
   "outputs": [],
   "source": []
  },
  {
   "cell_type": "code",
   "execution_count": null,
   "metadata": {},
   "outputs": [],
   "source": []
  },
  {
   "cell_type": "code",
   "execution_count": 1,
   "metadata": {},
   "outputs": [],
   "source": [
    "#no"
   ]
  }
 ],
 "metadata": {
  "kernelspec": {
   "display_name": "Python 3",
   "language": "python",
   "name": "python3"
  },
  "language_info": {
   "codemirror_mode": {
    "name": "ipython",
    "version": 3
   },
   "file_extension": ".py",
   "mimetype": "text/x-python",
   "name": "python",
   "nbconvert_exporter": "python",
   "pygments_lexer": "ipython3",
   "version": "3.6.9"
  }
 },
 "nbformat": 4,
 "nbformat_minor": 4
}
